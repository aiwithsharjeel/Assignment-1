{
 "cells": [
  {
   "cell_type": "markdown",
   "id": "13075d5c",
   "metadata": {},
   "source": [
    "### ASSIGNMENT 1"
   ]
  },
  {
   "cell_type": "markdown",
   "id": "56e80c3f",
   "metadata": {},
   "source": [
    "##### Q1)"
   ]
  },
  {
   "cell_type": "code",
   "execution_count": 4,
   "id": "036aa13e",
   "metadata": {},
   "outputs": [
    {
     "name": "stdout",
     "output_type": "stream",
     "text": [
      "Enter your salary here: 6000\n",
      "Enter number of Years: 6\n"
     ]
    }
   ],
   "source": [
    "salary = int(input(\"Enter your salary here: \"))\n",
    "years = int(input(\"Enter number of Years: \"))\n",
    "bonus = salary*float(5/100)"
   ]
  },
  {
   "cell_type": "code",
   "execution_count": 5,
   "id": "2f5e6788",
   "metadata": {},
   "outputs": [
    {
     "name": "stdout",
     "output_type": "stream",
     "text": [
      "300.0\n"
     ]
    }
   ],
   "source": [
    "if years > 5:\n",
    "    print(bonus)\n",
    "else :\n",
    "    print(\"sorry, you are not capable of it\")"
   ]
  },
  {
   "cell_type": "markdown",
   "id": "e852bd7e",
   "metadata": {},
   "source": [
    "##### Q2)"
   ]
  },
  {
   "cell_type": "code",
   "execution_count": 7,
   "id": "d69bfc98",
   "metadata": {},
   "outputs": [
    {
     "name": "stdout",
     "output_type": "stream",
     "text": [
      "Enter your age 16\n"
     ]
    }
   ],
   "source": [
    "age = int(input(\"Enter your age \"))"
   ]
  },
  {
   "cell_type": "code",
   "execution_count": 8,
   "id": "4f680455",
   "metadata": {},
   "outputs": [
    {
     "name": "stdout",
     "output_type": "stream",
     "text": [
      "you cant vote\n"
     ]
    }
   ],
   "source": [
    "if age > 17 :\n",
    "    print(\"you can vote\")\n",
    "else:\n",
    "    print(\"you cant vote\")"
   ]
  },
  {
   "cell_type": "markdown",
   "id": "94cd3164",
   "metadata": {},
   "source": [
    "##### Q3)"
   ]
  },
  {
   "cell_type": "code",
   "execution_count": 1,
   "id": "98e54b9e",
   "metadata": {},
   "outputs": [
    {
     "name": "stdout",
     "output_type": "stream",
     "text": [
      "enter your num: 6\n"
     ]
    }
   ],
   "source": [
    "num = int(input(\"enter your num: \"))"
   ]
  },
  {
   "cell_type": "code",
   "execution_count": 2,
   "id": "5e06da54",
   "metadata": {},
   "outputs": [
    {
     "name": "stdout",
     "output_type": "stream",
     "text": [
      "num is even\n"
     ]
    }
   ],
   "source": [
    "if num%2 ==0 :\n",
    "    print(\"num is even\")\n",
    "else :\n",
    "    print(\"num is odd\")"
   ]
  },
  {
   "cell_type": "markdown",
   "id": "c99c4203",
   "metadata": {},
   "source": [
    "##### Q4)"
   ]
  },
  {
   "cell_type": "code",
   "execution_count": 7,
   "id": "9da39043",
   "metadata": {},
   "outputs": [
    {
     "name": "stdout",
     "output_type": "stream",
     "text": [
      "enter your num: 21\n"
     ]
    }
   ],
   "source": [
    "num = int(input(\"enter your num: \"))"
   ]
  },
  {
   "cell_type": "code",
   "execution_count": 8,
   "id": "52bfce78",
   "metadata": {},
   "outputs": [
    {
     "name": "stdout",
     "output_type": "stream",
     "text": [
      "num is divisible by 7\n"
     ]
    }
   ],
   "source": [
    "if num%7 == 0 :\n",
    "    print(\"num is divisible by 7\")\n",
    "else :\n",
    "    print(\"num is not divisible\")\n",
    "    "
   ]
  },
  {
   "cell_type": "markdown",
   "id": "95c4478f",
   "metadata": {},
   "source": [
    "##### Q5)"
   ]
  },
  {
   "cell_type": "code",
   "execution_count": 11,
   "id": "3635ea0a",
   "metadata": {},
   "outputs": [
    {
     "name": "stdout",
     "output_type": "stream",
     "text": [
      "enter your num: 4\n"
     ]
    }
   ],
   "source": [
    "num = int(input(\"enter your num: \"))"
   ]
  },
  {
   "cell_type": "code",
   "execution_count": 12,
   "id": "5b9be866",
   "metadata": {},
   "outputs": [
    {
     "name": "stdout",
     "output_type": "stream",
     "text": [
      "bye\n"
     ]
    }
   ],
   "source": [
    "if num%5 ==0 :\n",
    "    print(\"hello\")\n",
    "else :\n",
    "    print(\"bye\")"
   ]
  },
  {
   "cell_type": "markdown",
   "id": "83c85aad",
   "metadata": {},
   "source": [
    "##### Q6)"
   ]
  },
  {
   "cell_type": "code",
   "execution_count": 11,
   "id": "3ae35507",
   "metadata": {},
   "outputs": [
    {
     "name": "stdout",
     "output_type": "stream",
     "text": [
      "enter your unit : 250\n"
     ]
    }
   ],
   "source": [
    "unit = int(input(\"enter your unit : \"))\n",
    "amount = 0"
   ]
  },
  {
   "cell_type": "code",
   "execution_count": 12,
   "id": "ddb49e9f",
   "metadata": {},
   "outputs": [
    {
     "name": "stdout",
     "output_type": "stream",
     "text": [
      "pay bill\n"
     ]
    }
   ],
   "source": [
    "if unit <=100 :\n",
    "    print('no need to pay bill')\n",
    "elif unit >100 and unit <200 :\n",
    "    amount = (unit - 100)*5\n",
    "else :\n",
    "    unit >200 \n",
    "    amount = (unit - 200)*10\n",
    "    print(\"pay bill\")"
   ]
  },
  {
   "cell_type": "markdown",
   "id": "a7cc6974",
   "metadata": {},
   "source": [
    "##### Q7)"
   ]
  },
  {
   "cell_type": "code",
   "execution_count": 35,
   "id": "4b7d4207",
   "metadata": {},
   "outputs": [
    {
     "name": "stdout",
     "output_type": "stream",
     "text": [
      "enter your num: 45\n"
     ]
    }
   ],
   "source": [
    "num = int(input(\"enter your num: \"))"
   ]
  },
  {
   "cell_type": "code",
   "execution_count": 38,
   "id": "a1336312",
   "metadata": {},
   "outputs": [
    {
     "name": "stdout",
     "output_type": "stream",
     "text": [
      "5\n"
     ]
    }
   ],
   "source": [
    "last_digit = num % 10\n",
    "print(last_digit)"
   ]
  },
  {
   "cell_type": "markdown",
   "id": "c5d0c5a7",
   "metadata": {},
   "source": [
    "##### Q8)"
   ]
  },
  {
   "cell_type": "code",
   "execution_count": 6,
   "id": "dc3a350b",
   "metadata": {},
   "outputs": [
    {
     "name": "stdout",
     "output_type": "stream",
     "text": [
      "enter your num: 10\n"
     ]
    }
   ],
   "source": [
    "num = int(input(\"enter your num: \"))\n",
    "last_digit = num % 10"
   ]
  },
  {
   "cell_type": "code",
   "execution_count": 7,
   "id": "c3b22602",
   "metadata": {},
   "outputs": [
    {
     "name": "stdout",
     "output_type": "stream",
     "text": [
      "Num is not divisible by 3 : 0\n"
     ]
    }
   ],
   "source": [
    "if num % 3 ==0:\n",
    "    print(f\"Num is divisible by 3 : {last_digit}\")\n",
    "else :\n",
    "    print(f\"Num is not divisible by 3 : {last_digit}\")"
   ]
  },
  {
   "cell_type": "markdown",
   "id": "80ad4869",
   "metadata": {},
   "source": [
    "##### Q9)"
   ]
  },
  {
   "cell_type": "code",
   "execution_count": 3,
   "id": "947ef5ca",
   "metadata": {},
   "outputs": [
    {
     "name": "stdout",
     "output_type": "stream",
     "text": [
      "enter your length: 6\n",
      "enter your breadth: 5\n"
     ]
    }
   ],
   "source": [
    "length = int(input(\"enter your length: \"))\n",
    "breadth = int(input(\"enter your breadth: \"))"
   ]
  },
  {
   "cell_type": "code",
   "execution_count": 4,
   "id": "1dbfb6de",
   "metadata": {},
   "outputs": [
    {
     "name": "stdout",
     "output_type": "stream",
     "text": [
      "it is a rectangle\n"
     ]
    }
   ],
   "source": [
    "if length == breadth :\n",
    "    print(\"it is a square\")\n",
    "else :\n",
    "    print(\"it is a rectangle\")"
   ]
  },
  {
   "cell_type": "markdown",
   "id": "2b223d21",
   "metadata": {},
   "source": [
    "##### Q10)"
   ]
  },
  {
   "cell_type": "code",
   "execution_count": 5,
   "id": "764c4507",
   "metadata": {},
   "outputs": [
    {
     "name": "stdout",
     "output_type": "stream",
     "text": [
      "enter your num: 4\n",
      "enter your num: 2\n"
     ]
    }
   ],
   "source": [
    "num1 = int(input(\"enter your num: \"))\n",
    "num2 = int(input(\"enter your num: \"))"
   ]
  },
  {
   "cell_type": "code",
   "execution_count": 6,
   "id": "4a28b1f9",
   "metadata": {},
   "outputs": [
    {
     "name": "stdout",
     "output_type": "stream",
     "text": [
      "The greatest number is: 4\n"
     ]
    }
   ],
   "source": [
    "if num1 > num2 :\n",
    "    print(f\"The greatest number is: {num1}\")\n",
    "elif num1 <num2 :\n",
    "    print(f\"The greatest number is: {num2}\")\n",
    "else :\n",
    "    print (\"both numbers are equal\")"
   ]
  },
  {
   "cell_type": "markdown",
   "id": "50f8d138",
   "metadata": {},
   "source": [
    "##### Q11)"
   ]
  },
  {
   "cell_type": "code",
   "execution_count": 13,
   "id": "f068e1eb",
   "metadata": {},
   "outputs": [
    {
     "name": "stdout",
     "output_type": "stream",
     "text": [
      "enter your num: 15\n"
     ]
    }
   ],
   "source": [
    "quantity = int(input(\"enter your num: \"))\n",
    "cost_per_unit = 100\n",
    "total_price = quantity * cost_per_unit "
   ]
  },
  {
   "cell_type": "code",
   "execution_count": 16,
   "id": "11c8f726",
   "metadata": {},
   "outputs": [
    {
     "name": "stdout",
     "output_type": "stream",
     "text": [
      "Total cost after discount: 1093.5\n"
     ]
    }
   ],
   "source": [
    "if total_price > 1000 :\n",
    "    discount = 0.10 * total_price \n",
    "    total_price -= discount\n",
    "    print(f\"Total cost after discount: {total_price}\")\n",
    "else :\n",
    "    print(f\"No discount: {total_price}\")"
   ]
  },
  {
   "cell_type": "markdown",
   "id": "e7f34bad",
   "metadata": {},
   "source": [
    "##### Q12)"
   ]
  },
  {
   "cell_type": "markdown",
   "id": "dcfcb219",
   "metadata": {},
   "source": [
    "##### Kindly explain what is wrong in this code"
   ]
  },
  {
   "cell_type": "code",
   "execution_count": 17,
   "id": "03153244",
   "metadata": {},
   "outputs": [
    {
     "name": "stdout",
     "output_type": "stream",
     "text": [
      "enter your marks: 98\n"
     ]
    }
   ],
   "source": [
    "marks = int(input(\"enter your num: \"))"
   ]
  },
  {
   "cell_type": "code",
   "execution_count": 23,
   "id": "c00ca915",
   "metadata": {},
   "outputs": [
    {
     "ename": "SyntaxError",
     "evalue": "invalid syntax (2081582914.py, line 3)",
     "output_type": "error",
     "traceback": [
      "\u001b[1;36m  Cell \u001b[1;32mIn[23], line 3\u001b[1;36m\u001b[0m\n\u001b[1;33m    elif marks >= 60 and <=80 :\u001b[0m\n\u001b[1;37m                         ^\u001b[0m\n\u001b[1;31mSyntaxError\u001b[0m\u001b[1;31m:\u001b[0m invalid syntax\n"
     ]
    }
   ],
   "source": [
    "if marks > 80 :\n",
    "    print(\"Your grade is A\")\n",
    "elif marks >= 60 and <=80 :\n",
    "    print(\"Your grade is B\")\n",
    "elif marks >=50 and <=60 :\n",
    "    print(\"Your grade is C\")\n",
    "elif marks >=45 and <=50 :\n",
    "    print(\"Your grade is D\")\n",
    "elif marks >=25 and <=45:\n",
    "    print(\"Your grade is E\")\n",
    "else  marks < 25 :\n",
    "    print(\"Your grade is F\")"
   ]
  },
  {
   "cell_type": "markdown",
   "id": "764f9d8d",
   "metadata": {},
   "source": [
    "##### Q13)"
   ]
  },
  {
   "cell_type": "markdown",
   "id": "bf6ca97c",
   "metadata": {},
   "source": [
    "##### sir I am having problem in this question"
   ]
  },
  {
   "cell_type": "code",
   "execution_count": 24,
   "id": "c6dd81c9",
   "metadata": {},
   "outputs": [
    {
     "name": "stdout",
     "output_type": "stream",
     "text": [
      "enter your num: 5\n",
      "enter your num: 6\n",
      "enter your num: 7\n"
     ]
    }
   ],
   "source": [
    "age1 = int(input(\"enter your num: \"))\n",
    "age2= int(input(\"enter your num: \"))\n",
    "age3 = int(input(\"enter your num: \"))\n"
   ]
  },
  {
   "cell_type": "code",
   "execution_count": 25,
   "id": "c8cbf0ff",
   "metadata": {},
   "outputs": [
    {
     "ename": "SyntaxError",
     "evalue": "invalid syntax (2378998661.py, line 1)",
     "output_type": "error",
     "traceback": [
      "\u001b[1;36m  Cell \u001b[1;32mIn[25], line 1\u001b[1;36m\u001b[0m\n\u001b[1;33m    if age1 > age2,age3 :\u001b[0m\n\u001b[1;37m                  ^\u001b[0m\n\u001b[1;31mSyntaxError\u001b[0m\u001b[1;31m:\u001b[0m invalid syntax\n"
     ]
    }
   ],
   "source": [
    "if age1 > age2,age3 :\n",
    "    print (\"You are oldest\")\n",
    "elif age2> age1,age3 :\n",
    "    print (\"You are oldest\")\n",
    "elif age3> age1,age2 :\n",
    "    print (\"You are oldest\")\n",
    "else :\n",
    "    print (\"ALL ARE YOUNGER\")"
   ]
  },
  {
   "cell_type": "markdown",
   "id": "24494e01",
   "metadata": {},
   "source": [
    "##### Q14)"
   ]
  },
  {
   "cell_type": "code",
   "execution_count": 32,
   "id": "addc6450",
   "metadata": {},
   "outputs": [
    {
     "name": "stdout",
     "output_type": "stream",
     "text": [
      "enter your num: 60\n",
      "enter your num: 55\n"
     ]
    }
   ],
   "source": [
    "classes_held = int(input(\"enter your num: \"))\n",
    "classes_attended = int(input(\"enter your num: \"))\n",
    "attendance_percentage = float(classes_attended / classes_held) * 100"
   ]
  },
  {
   "cell_type": "code",
   "execution_count": 34,
   "id": "6bb49d53",
   "metadata": {},
   "outputs": [
    {
     "name": "stdout",
     "output_type": "stream",
     "text": [
      "you can enter examination hall  : 91.66666666666666 \n"
     ]
    }
   ],
   "source": [
    "if attendance_percentage > 75 :\n",
    "    print(f\"you can enter examination hall  : {attendance_percentage } \")\n",
    "else:\n",
    "    print(f\"you can't enter examination hall : {attendance_percentage } \")"
   ]
  },
  {
   "cell_type": "markdown",
   "id": "c1ddf584",
   "metadata": {},
   "source": [
    "##### Q15)"
   ]
  },
  {
   "cell_type": "code",
   "execution_count": 52,
   "id": "b6eee177",
   "metadata": {},
   "outputs": [
    {
     "name": "stdout",
     "output_type": "stream",
     "text": [
      "enter your num: 60\n",
      "enter your num: 55\n",
      "Do you have a medical cause ('Y' OR 'N'): Y\n"
     ]
    }
   ],
   "source": [
    "\n",
    "classes_held = int(input(\"enter your num: \"))\n",
    "classes_attended = int(input(\"enter your num: \"))\n",
    "attendance_percentage = float(classes_attended / classes_held) * 100\n",
    "medical_cause = input(\"Do you have a medical cause ('Y' OR 'N'): \")\n"
   ]
  },
  {
   "cell_type": "code",
   "execution_count": 53,
   "id": "c66396af",
   "metadata": {},
   "outputs": [
    {
     "name": "stdout",
     "output_type": "stream",
     "text": [
      "you can enter examination hall  : 91.66666666666666 \n"
     ]
    }
   ],
   "source": [
    "if attendance_percentage > 75 or medical_cause == 'Y' :\n",
    "    print(f\"you can enter examination hall  : {attendance_percentage } \")\n",
    "else:\n",
    "    print(f\"you can't enter examination hall : {attendance_percentage } \")"
   ]
  },
  {
   "cell_type": "markdown",
   "id": "17090859",
   "metadata": {},
   "source": [
    "##### Q16)"
   ]
  },
  {
   "cell_type": "code",
   "execution_count": 57,
   "id": "21a77798",
   "metadata": {},
   "outputs": [
    {
     "name": "stdout",
     "output_type": "stream",
     "text": [
      "enter your year: 2000\n"
     ]
    }
   ],
   "source": [
    "year = int(input(\"enter your year: \"))"
   ]
  },
  {
   "cell_type": "code",
   "execution_count": 58,
   "id": "19b292bb",
   "metadata": {},
   "outputs": [
    {
     "name": "stdout",
     "output_type": "stream",
     "text": [
      "it is a leap year\n"
     ]
    }
   ],
   "source": [
    "if year% 4 ==0 :\n",
    "    print(\"it is a leap year\")\n",
    "elif year % 400 ==0 :\n",
    "    print (\"it is a century year\")\n",
    "else :\n",
    "    print(\"No, its not a leap year\")"
   ]
  },
  {
   "cell_type": "markdown",
   "id": "3fe226a2",
   "metadata": {},
   "source": [
    "##### Q17)"
   ]
  },
  {
   "cell_type": "code",
   "execution_count": 2,
   "id": "ee1fc86a",
   "metadata": {},
   "outputs": [
    {
     "name": "stdout",
     "output_type": "stream",
     "text": [
      "enter your gender ('M' or 'F'): M\n",
      "enter your status: N\n",
      "enter your age: 30\n"
     ]
    }
   ],
   "source": [
    "gender = input(\"enter your gender ('M' or 'F'): \")\n",
    "martial_status = input(\"enter your status: \")\n",
    "age = int(input(\"enter your age: \"))"
   ]
  },
  {
   "cell_type": "code",
   "execution_count": 4,
   "id": "83a12488",
   "metadata": {},
   "outputs": [
    {
     "name": "stdout",
     "output_type": "stream",
     "text": [
      "You can work anywhere M \n"
     ]
    }
   ],
   "source": [
    "if gender == 'F' :\n",
    "    print(\"only work in urban areas\")\n",
    "elif gender == 'M' and 20<age<40 :\n",
    "    print(f\"You can work anywhere :{gender} \")\n",
    "elif gender == 'M' and 40<age<60 :\n",
    "    print(f\"You can work only in urban areas: {gender}\")\n",
    "else :\n",
    "    print(\"ERROR\")"
   ]
  },
  {
   "cell_type": "code",
   "execution_count": null,
   "id": "37dd9d87",
   "metadata": {},
   "outputs": [],
   "source": [
    "\n"
   ]
  },
  {
   "cell_type": "code",
   "execution_count": null,
   "id": "67a497d2",
   "metadata": {},
   "outputs": [],
   "source": []
  },
  {
   "cell_type": "code",
   "execution_count": null,
   "id": "fb8787ae",
   "metadata": {},
   "outputs": [],
   "source": []
  },
  {
   "cell_type": "code",
   "execution_count": null,
   "id": "b867a5e1",
   "metadata": {},
   "outputs": [],
   "source": []
  },
  {
   "cell_type": "code",
   "execution_count": null,
   "id": "5f8544b1",
   "metadata": {},
   "outputs": [],
   "source": []
  },
  {
   "cell_type": "code",
   "execution_count": null,
   "id": "07da0b51",
   "metadata": {},
   "outputs": [],
   "source": []
  },
  {
   "cell_type": "code",
   "execution_count": null,
   "id": "39564b30",
   "metadata": {},
   "outputs": [],
   "source": []
  }
 ],
 "metadata": {
  "kernelspec": {
   "display_name": "Python 3 (ipykernel)",
   "language": "python",
   "name": "python3"
  },
  "language_info": {
   "codemirror_mode": {
    "name": "ipython",
    "version": 3
   },
   "file_extension": ".py",
   "mimetype": "text/x-python",
   "name": "python",
   "nbconvert_exporter": "python",
   "pygments_lexer": "ipython3",
   "version": "3.11.5"
  }
 },
 "nbformat": 4,
 "nbformat_minor": 5
}
